{
 "cells": [
  {
   "cell_type": "markdown",
   "metadata": {
    "papermill": {
     "duration": 0.030503,
     "end_time": "2020-08-21T20:33:10.150045",
     "exception": false,
     "start_time": "2020-08-21T20:33:10.119542",
     "status": "completed"
    },
    "tags": []
   },
   "source": [
    "# A baseline model for the begineers "
   ]
  },
  {
   "cell_type": "markdown",
   "metadata": {
    "papermill": {
     "duration": 0.028331,
     "end_time": "2020-08-21T20:33:10.206839",
     "exception": false,
     "start_time": "2020-08-21T20:33:10.178508",
     "status": "completed"
    },
    "tags": []
   },
   "source": [
    "* MD AKIL RAIHAN IFTEE.\n",
    "* COMPUTER SCIENCE AND ENGINEERING.\n",
    "* KHULNA UNIVERSITY OF ENGINEERING AND TECHENOLOGY, BANGLADESH\n",
    "* YEAR: 2ND (UNDERGRADUATE B.Sc.)"
   ]
  },
  {
   "cell_type": "markdown",
   "metadata": {
    "papermill": {
     "duration": 0.024225,
     "end_time": "2020-08-21T20:33:10.255931",
     "exception": false,
     "start_time": "2020-08-21T20:33:10.231706",
     "status": "completed"
    },
    "tags": []
   },
   "source": [
    "* I am new to data science. This is my 2nd competetion of machine learing challenge. If I score better than this, I will keep updating it.\n",
    "* It is also my first notebook in my life. So, if I made any mistake, please feel free to correct me."
   ]
  },
  {
   "cell_type": "code",
   "execution_count": null,
   "metadata": {
    "papermill": {
     "duration": 0.024542,
     "end_time": "2020-08-21T20:33:10.304928",
     "exception": false,
     "start_time": "2020-08-21T20:33:10.280386",
     "status": "completed"
    },
    "tags": []
   },
   "outputs": [],
   "source": []
  },
  {
   "cell_type": "markdown",
   "metadata": {
    "papermill": {
     "duration": 0.023733,
     "end_time": "2020-08-21T20:33:10.353006",
     "exception": false,
     "start_time": "2020-08-21T20:33:10.329273",
     "status": "completed"
    },
    "tags": []
   },
   "source": [
    "# 91.06581 scored and 25 ranked"
   ]
  },
  {
   "attachments": {
    "image.png": {
     "image/png": "[encoded data removed]"
    }
   },
   "cell_type": "markdown",
   "metadata": {
    "papermill": {
     "duration": 0.023812,
     "end_time": "2020-08-21T20:33:10.404243",
     "exception": false,
     "start_time": "2020-08-21T20:33:10.380431",
     "status": "completed"
    },
    "tags": []
   },
   "source": [
    "![image.png](attachment:image.png)"
   ]
  },
  {
   "cell_type": "code",
   "execution_count": null,
   "metadata": {
    "papermill": {
     "duration": 0.023713,
     "end_time": "2020-08-21T20:33:10.452202",
     "exception": false,
     "start_time": "2020-08-21T20:33:10.428489",
     "status": "completed"
    },
    "tags": []
   },
   "outputs": [],
   "source": []
  },
  {
   "cell_type": "markdown",
   "metadata": {
    "papermill": {
     "duration": 0.023584,
     "end_time": "2020-08-21T20:33:10.499757",
     "exception": false,
     "start_time": "2020-08-21T20:33:10.476173",
     "status": "completed"
    },
    "tags": []
   },
   "source": [
    "* It is a multi-label or multi output classification problem. You have to predict two labels: 'breed_catagory' and 'pet_catagory'.\n",
    "* Formally, multi-label classification is the approach of finding a model that maps inputs, x to binary vectors, y (assigning a value of 0 or 1 for each element (label) in y).\n",
    "* How to solve it??\n",
    "* The best solution here is to train two models.\n",
    "1. Build one classification model and predict the output.\n",
    "2. Use the predicted output of 1st model as input feature to 2nd model.\n",
    "* you can also try multi-class classification i.e., predicting both labels simultaneously, but it will give you poor score."
   ]
  },
  {
   "cell_type": "code",
   "execution_count": 1,
   "metadata": {
    "_cell_guid": "b1076dfc-b9ad-4769-8c92-a6c4dae69d19",
    "_uuid": "8f2839f25d086af736a60e9eeb907d3b93b6e0e5",
    "execution": {
     "iopub.execute_input": "2020-08-21T20:33:10.556043Z",
     "iopub.status.busy": "2020-08-21T20:33:10.555175Z",
     "iopub.status.idle": "2020-08-21T20:33:10.564511Z",
     "shell.execute_reply": "2020-08-21T20:33:10.563654Z"
    },
    "papermill": {
     "duration": 0.041016,
     "end_time": "2020-08-21T20:33:10.564693",
     "exception": false,
     "start_time": "2020-08-21T20:33:10.523677",
     "status": "completed"
    },
    "tags": []
   },
   "outputs": [
    {
     "name": "stdout",
     "output_type": "stream",
     "text": [
      "/kaggle/input/hackerearth-ml-challenge-pet-adoption/train.csv\n",
      "/kaggle/input/hackerearth-ml-challenge-pet-adoption/test.csv\n"
     ]
    }
   ],
   "source": [
    "# This Python 3 environment comes with many helpful analytics libraries installed\n",
    "# It is defined by the kaggle/python Docker image: https://github.com/kaggle/docker-python\n",
    "# For example, here are several helpful packages to load\n",
    "\n",
    "import numpy as np # linear algebra\n",
    "import pandas as pd # data processing, CSV file I/O (e.g. pd.read_csv)\n",
    "\n",
    "# Input data files are available in the read-only \"../input/\" directory\n",
    "# For example, running this (by clicking run or pressing Shift+Enter) will list all files under the input directory\n",
    "\n",
    "import os\n",
    "for dirname, _, filenames in os.walk('/kaggle/input'):\n",
    "    for filename in filenames:\n",
    "        print(os.path.join(dirname, filename))\n",
    "\n",
    "# You can write up to 5GB to the current directory (/kaggle/working/) that gets preserved as output when you create a version using \"Save & Run All\" \n",
    "# You can also write temporary files to /kaggle/temp/, but they won't be saved outside of the current session"
   ]
  },
  {
   "cell_type": "code",
   "execution_count": 2,
   "metadata": {
    "_cell_guid": "79c7e3d0-c299-4dcb-8224-4455121ee9b0",
    "_uuid": "d629ff2d2480ee46fbb7e2d37f6b5fab8052498a",
    "execution": {
     "iopub.execute_input": "2020-08-21T20:33:10.622292Z",
     "iopub.status.busy": "2020-08-21T20:33:10.621457Z",
     "iopub.status.idle": "2020-08-21T20:33:10.758466Z",
     "shell.execute_reply": "2020-08-21T20:33:10.757766Z"
    },
    "papermill": {
     "duration": 0.169702,
     "end_time": "2020-08-21T20:33:10.758619",
     "exception": false,
     "start_time": "2020-08-21T20:33:10.588917",
     "status": "completed"
    },
    "tags": []
   },
   "outputs": [
    {
     "data": {
      "text/html": [
       "<div>\n",
       "<style scoped>\n",
       "    .dataframe tbody tr th:only-of-type {\n",
       "        vertical-align: middle;\n",
       "    }\n",
       "\n",
       "    .dataframe tbody tr th {\n",
       "        vertical-align: top;\n",
       "    }\n",
       "\n",
       "    .dataframe thead th {\n",
       "        text-align: right;\n",
       "    }\n",
       "</style>\n",
       "<table border=\"1\" class=\"dataframe\">\n",
       "  <thead>\n",
       "    <tr style=\"text-align: right;\">\n",
       "      <th></th>\n",
       "      <th>pet_id</th>\n",
       "      <th>issue_date</th>\n",
       "      <th>listing_date</th>\n",
       "      <th>condition</th>\n",
       "      <th>color_type</th>\n",
       "      <th>length(m)</th>\n",
       "      <th>height(cm)</th>\n",
       "      <th>X1</th>\n",
       "      <th>X2</th>\n",
       "      <th>breed_category</th>\n",
       "      <th>pet_category</th>\n",
       "    </tr>\n",
       "  </thead>\n",
       "  <tbody>\n",
       "    <tr>\n",
       "      <th>0</th>\n",
       "      <td>ANSL_69903</td>\n",
       "      <td>2016-07-10 00:00:00</td>\n",
       "      <td>2016-09-21 16:25:00</td>\n",
       "      <td>2.0</td>\n",
       "      <td>Brown Tabby</td>\n",
       "      <td>0.80</td>\n",
       "      <td>7.78</td>\n",
       "      <td>13</td>\n",
       "      <td>9</td>\n",
       "      <td>0.0</td>\n",
       "      <td>1</td>\n",
       "    </tr>\n",
       "    <tr>\n",
       "      <th>1</th>\n",
       "      <td>ANSL_66892</td>\n",
       "      <td>2013-11-21 00:00:00</td>\n",
       "      <td>2018-12-27 17:47:00</td>\n",
       "      <td>1.0</td>\n",
       "      <td>White</td>\n",
       "      <td>0.72</td>\n",
       "      <td>14.19</td>\n",
       "      <td>13</td>\n",
       "      <td>9</td>\n",
       "      <td>0.0</td>\n",
       "      <td>2</td>\n",
       "    </tr>\n",
       "    <tr>\n",
       "      <th>2</th>\n",
       "      <td>ANSL_69750</td>\n",
       "      <td>2014-09-28 00:00:00</td>\n",
       "      <td>2016-10-19 08:24:00</td>\n",
       "      <td>NaN</td>\n",
       "      <td>Brown</td>\n",
       "      <td>0.15</td>\n",
       "      <td>40.90</td>\n",
       "      <td>15</td>\n",
       "      <td>4</td>\n",
       "      <td>2.0</td>\n",
       "      <td>4</td>\n",
       "    </tr>\n",
       "    <tr>\n",
       "      <th>3</th>\n",
       "      <td>ANSL_71623</td>\n",
       "      <td>2016-12-31 00:00:00</td>\n",
       "      <td>2019-01-25 18:30:00</td>\n",
       "      <td>1.0</td>\n",
       "      <td>White</td>\n",
       "      <td>0.62</td>\n",
       "      <td>17.82</td>\n",
       "      <td>0</td>\n",
       "      <td>1</td>\n",
       "      <td>0.0</td>\n",
       "      <td>2</td>\n",
       "    </tr>\n",
       "    <tr>\n",
       "      <th>4</th>\n",
       "      <td>ANSL_57969</td>\n",
       "      <td>2017-09-28 00:00:00</td>\n",
       "      <td>2017-11-19 09:38:00</td>\n",
       "      <td>2.0</td>\n",
       "      <td>Black</td>\n",
       "      <td>0.50</td>\n",
       "      <td>11.06</td>\n",
       "      <td>18</td>\n",
       "      <td>4</td>\n",
       "      <td>0.0</td>\n",
       "      <td>1</td>\n",
       "    </tr>\n",
       "  </tbody>\n",
       "</table>\n",
       "</div>"
      ],
      "text/plain": [
       "       pet_id           issue_date         listing_date  condition  \\\n",
       "0  ANSL_69903  2016-07-10 00:00:00  2016-09-21 16:25:00        2.0   \n",
       "1  ANSL_66892  2013-11-21 00:00:00  2018-12-27 17:47:00        1.0   \n",
       "2  ANSL_69750  2014-09-28 00:00:00  2016-10-19 08:24:00        NaN   \n",
       "3  ANSL_71623  2016-12-31 00:00:00  2019-01-25 18:30:00        1.0   \n",
       "4  ANSL_57969  2017-09-28 00:00:00  2017-11-19 09:38:00        2.0   \n",
       "\n",
       "    color_type  length(m)  height(cm)  X1  X2  breed_category  pet_category  \n",
       "0  Brown Tabby       0.80        7.78  13   9             0.0             1  \n",
       "1        White       0.72       14.19  13   9             0.0             2  \n",
       "2        Brown       0.15       40.90  15   4             2.0             4  \n",
       "3        White       0.62       17.82   0   1             0.0             2  \n",
       "4        Black       0.50       11.06  18   4             0.0             1  "
      ]
     },
     "execution_count": 2,
     "metadata": {},
     "output_type": "execute_result"
    }
   ],
   "source": [
    "train=pd.read_csv(\"../input/hackerearth-ml-challenge-pet-adoption/train.csv\")\n",
    "test=pd.read_csv(\"../input/hackerearth-ml-challenge-pet-adoption/test.csv\")\n",
    "train.head()"
   ]
  },
  {
   "cell_type": "code",
   "execution_count": 3,
   "metadata": {
    "execution": {
     "iopub.execute_input": "2020-08-21T20:33:10.828775Z",
     "iopub.status.busy": "2020-08-21T20:33:10.827642Z",
     "iopub.status.idle": "2020-08-21T20:33:10.834562Z",
     "shell.execute_reply": "2020-08-21T20:33:10.833707Z"
    },
    "papermill": {
     "duration": 0.050522,
     "end_time": "2020-08-21T20:33:10.834711",
     "exception": false,
     "start_time": "2020-08-21T20:33:10.784189",
     "status": "completed"
    },
    "tags": []
   },
   "outputs": [
    {
     "data": {
      "text/html": [
       "<div>\n",
       "<style scoped>\n",
       "    .dataframe tbody tr th:only-of-type {\n",
       "        vertical-align: middle;\n",
       "    }\n",
       "\n",
       "    .dataframe tbody tr th {\n",
       "        vertical-align: top;\n",
       "    }\n",
       "\n",
       "    .dataframe thead th {\n",
       "        text-align: right;\n",
       "    }\n",
       "</style>\n",
       "<table border=\"1\" class=\"dataframe\">\n",
       "  <thead>\n",
       "    <tr style=\"text-align: right;\">\n",
       "      <th></th>\n",
       "      <th>pet_id</th>\n",
       "      <th>issue_date</th>\n",
       "      <th>listing_date</th>\n",
       "      <th>condition</th>\n",
       "      <th>color_type</th>\n",
       "      <th>length(m)</th>\n",
       "      <th>height(cm)</th>\n",
       "      <th>X1</th>\n",
       "      <th>X2</th>\n",
       "    </tr>\n",
       "  </thead>\n",
       "  <tbody>\n",
       "    <tr>\n",
       "      <th>0</th>\n",
       "      <td>ANSL_75005</td>\n",
       "      <td>2005-08-17 00:00:00</td>\n",
       "      <td>2017-09-07 15:35:00</td>\n",
       "      <td>0.0</td>\n",
       "      <td>Black</td>\n",
       "      <td>0.87</td>\n",
       "      <td>42.73</td>\n",
       "      <td>0</td>\n",
       "      <td>7</td>\n",
       "    </tr>\n",
       "    <tr>\n",
       "      <th>1</th>\n",
       "      <td>ANSL_76663</td>\n",
       "      <td>2018-11-15 00:00:00</td>\n",
       "      <td>2019-05-08 17:24:00</td>\n",
       "      <td>1.0</td>\n",
       "      <td>Orange Tabby</td>\n",
       "      <td>0.06</td>\n",
       "      <td>6.71</td>\n",
       "      <td>0</td>\n",
       "      <td>1</td>\n",
       "    </tr>\n",
       "    <tr>\n",
       "      <th>2</th>\n",
       "      <td>ANSL_58259</td>\n",
       "      <td>2012-10-11 00:00:00</td>\n",
       "      <td>2018-04-02 16:51:00</td>\n",
       "      <td>1.0</td>\n",
       "      <td>Black</td>\n",
       "      <td>0.24</td>\n",
       "      <td>41.21</td>\n",
       "      <td>0</td>\n",
       "      <td>7</td>\n",
       "    </tr>\n",
       "    <tr>\n",
       "      <th>3</th>\n",
       "      <td>ANSL_67171</td>\n",
       "      <td>2015-02-13 00:00:00</td>\n",
       "      <td>2018-04-06 07:25:00</td>\n",
       "      <td>1.0</td>\n",
       "      <td>Black</td>\n",
       "      <td>0.29</td>\n",
       "      <td>8.46</td>\n",
       "      <td>7</td>\n",
       "      <td>1</td>\n",
       "    </tr>\n",
       "    <tr>\n",
       "      <th>4</th>\n",
       "      <td>ANSL_72871</td>\n",
       "      <td>2017-01-18 00:00:00</td>\n",
       "      <td>2018-04-26 13:42:00</td>\n",
       "      <td>1.0</td>\n",
       "      <td>Brown</td>\n",
       "      <td>0.71</td>\n",
       "      <td>30.92</td>\n",
       "      <td>0</td>\n",
       "      <td>7</td>\n",
       "    </tr>\n",
       "  </tbody>\n",
       "</table>\n",
       "</div>"
      ],
      "text/plain": [
       "       pet_id           issue_date         listing_date  condition  \\\n",
       "0  ANSL_75005  2005-08-17 00:00:00  2017-09-07 15:35:00        0.0   \n",
       "1  ANSL_76663  2018-11-15 00:00:00  2019-05-08 17:24:00        1.0   \n",
       "2  ANSL_58259  2012-10-11 00:00:00  2018-04-02 16:51:00        1.0   \n",
       "3  ANSL_67171  2015-02-13 00:00:00  2018-04-06 07:25:00        1.0   \n",
       "4  ANSL_72871  2017-01-18 00:00:00  2018-04-26 13:42:00        1.0   \n",
       "\n",
       "     color_type  length(m)  height(cm)  X1  X2  \n",
       "0         Black       0.87       42.73   0   7  \n",
       "1  Orange Tabby       0.06        6.71   0   1  \n",
       "2         Black       0.24       41.21   0   7  \n",
       "3         Black       0.29        8.46   7   1  \n",
       "4         Brown       0.71       30.92   0   7  "
      ]
     },
     "execution_count": 3,
     "metadata": {},
     "output_type": "execute_result"
    }
   ],
   "source": [
    "test.head()"
   ]
  },
  {
   "cell_type": "code",
   "execution_count": 4,
   "metadata": {
    "execution": {
     "iopub.execute_input": "2020-08-21T20:33:10.891940Z",
     "iopub.status.busy": "2020-08-21T20:33:10.890830Z",
     "iopub.status.idle": "2020-08-21T20:33:10.895872Z",
     "shell.execute_reply": "2020-08-21T20:33:10.895096Z"
    },
    "papermill": {
     "duration": 0.036053,
     "end_time": "2020-08-21T20:33:10.896004",
     "exception": false,
     "start_time": "2020-08-21T20:33:10.859951",
     "status": "completed"
    },
    "tags": []
   },
   "outputs": [
    {
     "data": {
      "text/plain": [
       "((18834, 11), (8072, 9))"
      ]
     },
     "execution_count": 4,
     "metadata": {},
     "output_type": "execute_result"
    }
   ],
   "source": [
    "train.shape,test.shape"
   ]
  },
  {
   "cell_type": "markdown",
   "metadata": {
    "papermill": {
     "duration": 0.025325,
     "end_time": "2020-08-21T20:33:10.946404",
     "exception": false,
     "start_time": "2020-08-21T20:33:10.921079",
     "status": "completed"
    },
    "tags": []
   },
   "source": [
    "#  check  missing values"
   ]
  },
  {
   "cell_type": "code",
   "execution_count": 5,
   "metadata": {
    "execution": {
     "iopub.execute_input": "2020-08-21T20:33:11.004201Z",
     "iopub.status.busy": "2020-08-21T20:33:11.003298Z",
     "iopub.status.idle": "2020-08-21T20:33:11.039681Z",
     "shell.execute_reply": "2020-08-21T20:33:11.038838Z"
    },
    "papermill": {
     "duration": 0.067911,
     "end_time": "2020-08-21T20:33:11.039834",
     "exception": false,
     "start_time": "2020-08-21T20:33:10.971923",
     "status": "completed"
    },
    "tags": []
   },
   "outputs": [
    {
     "name": "stdout",
     "output_type": "stream",
     "text": [
      "<class 'pandas.core.frame.DataFrame'>\n",
      "RangeIndex: 18834 entries, 0 to 18833\n",
      "Data columns (total 11 columns):\n",
      " #   Column          Non-Null Count  Dtype  \n",
      "---  ------          --------------  -----  \n",
      " 0   pet_id          18834 non-null  object \n",
      " 1   issue_date      18834 non-null  object \n",
      " 2   listing_date    18834 non-null  object \n",
      " 3   condition       17357 non-null  float64\n",
      " 4   color_type      18834 non-null  object \n",
      " 5   length(m)       18834 non-null  float64\n",
      " 6   height(cm)      18834 non-null  float64\n",
      " 7   X1              18834 non-null  int64  \n",
      " 8   X2              18834 non-null  int64  \n",
      " 9   breed_category  18834 non-null  float64\n",
      " 10  pet_category    18834 non-null  int64  \n",
      "dtypes: float64(4), int64(3), object(4)\n",
      "memory usage: 1.6+ MB\n"
     ]
    }
   ],
   "source": [
    "train.info()"
   ]
  },
  {
   "cell_type": "code",
   "execution_count": 6,
   "metadata": {
    "execution": {
     "iopub.execute_input": "2020-08-21T20:33:11.113994Z",
     "iopub.status.busy": "2020-08-21T20:33:11.106350Z",
     "iopub.status.idle": "2020-08-21T20:33:11.119605Z",
     "shell.execute_reply": "2020-08-21T20:33:11.118832Z"
    },
    "papermill": {
     "duration": 0.053642,
     "end_time": "2020-08-21T20:33:11.119751",
     "exception": false,
     "start_time": "2020-08-21T20:33:11.066109",
     "status": "completed"
    },
    "tags": []
   },
   "outputs": [
    {
     "name": "stdout",
     "output_type": "stream",
     "text": [
      "<class 'pandas.core.frame.DataFrame'>\n",
      "RangeIndex: 8072 entries, 0 to 8071\n",
      "Data columns (total 9 columns):\n",
      " #   Column        Non-Null Count  Dtype  \n",
      "---  ------        --------------  -----  \n",
      " 0   pet_id        8072 non-null   object \n",
      " 1   issue_date    8072 non-null   object \n",
      " 2   listing_date  8072 non-null   object \n",
      " 3   condition     7453 non-null   float64\n",
      " 4   color_type    8072 non-null   object \n",
      " 5   length(m)     8072 non-null   float64\n",
      " 6   height(cm)    8072 non-null   float64\n",
      " 7   X1            8072 non-null   int64  \n",
      " 8   X2            8072 non-null   int64  \n",
      "dtypes: float64(3), int64(2), object(4)\n",
      "memory usage: 567.7+ KB\n"
     ]
    }
   ],
   "source": [
    "test.info()"
   ]
  },
  {
   "cell_type": "markdown",
   "metadata": {
    "papermill": {
     "duration": 0.024848,
     "end_time": "2020-08-21T20:33:11.170320",
     "exception": false,
     "start_time": "2020-08-21T20:33:11.145472",
     "status": "completed"
    },
    "tags": []
   },
   "source": [
    "we found missing values only in the column of 'Condition'."
   ]
  },
  {
   "cell_type": "code",
   "execution_count": 7,
   "metadata": {
    "execution": {
     "iopub.execute_input": "2020-08-21T20:33:11.228447Z",
     "iopub.status.busy": "2020-08-21T20:33:11.227586Z",
     "iopub.status.idle": "2020-08-21T20:33:11.236455Z",
     "shell.execute_reply": "2020-08-21T20:33:11.237057Z"
    },
    "papermill": {
     "duration": 0.041496,
     "end_time": "2020-08-21T20:33:11.237263",
     "exception": false,
     "start_time": "2020-08-21T20:33:11.195767",
     "status": "completed"
    },
    "tags": []
   },
   "outputs": [
    {
     "data": {
      "text/plain": [
       "0.0    9000\n",
       "1.0    8357\n",
       "2.0    1477\n",
       "Name: breed_category, dtype: int64"
      ]
     },
     "execution_count": 7,
     "metadata": {},
     "output_type": "execute_result"
    }
   ],
   "source": [
    "train['breed_category'].value_counts()"
   ]
  },
  {
   "cell_type": "code",
   "execution_count": 8,
   "metadata": {
    "execution": {
     "iopub.execute_input": "2020-08-21T20:33:11.296511Z",
     "iopub.status.busy": "2020-08-21T20:33:11.295693Z",
     "iopub.status.idle": "2020-08-21T20:33:11.305082Z",
     "shell.execute_reply": "2020-08-21T20:33:11.304293Z"
    },
    "papermill": {
     "duration": 0.041918,
     "end_time": "2020-08-21T20:33:11.305266",
     "exception": false,
     "start_time": "2020-08-21T20:33:11.263348",
     "status": "completed"
    },
    "tags": []
   },
   "outputs": [
    {
     "data": {
      "text/plain": [
       "2.0    1477\n",
       "Name: breed_category, dtype: int64"
      ]
     },
     "execution_count": 8,
     "metadata": {},
     "output_type": "execute_result"
    }
   ],
   "source": [
    "#cheak\n",
    "a=train['breed_category'][(np.isnan(train['condition']))]\n",
    "a.value_counts()"
   ]
  },
  {
   "cell_type": "markdown",
   "metadata": {
    "papermill": {
     "duration": 0.025295,
     "end_time": "2020-08-21T20:33:11.357562",
     "exception": false,
     "start_time": "2020-08-21T20:33:11.332267",
     "status": "completed"
    },
    "tags": []
   },
   "source": [
    "It means all the missing values belong to a single particular label. So, we can fill them with a unique value like -1."
   ]
  },
  {
   "cell_type": "markdown",
   "metadata": {
    "papermill": {
     "duration": 0.025503,
     "end_time": "2020-08-21T20:33:11.409419",
     "exception": false,
     "start_time": "2020-08-21T20:33:11.383916",
     "status": "completed"
    },
    "tags": []
   },
   "source": [
    "**combine train and test data** "
   ]
  },
  {
   "cell_type": "code",
   "execution_count": 9,
   "metadata": {
    "execution": {
     "iopub.execute_input": "2020-08-21T20:33:11.467875Z",
     "iopub.status.busy": "2020-08-21T20:33:11.466825Z",
     "iopub.status.idle": "2020-08-21T20:33:11.470943Z",
     "shell.execute_reply": "2020-08-21T20:33:11.470273Z"
    },
    "papermill": {
     "duration": 0.035719,
     "end_time": "2020-08-21T20:33:11.471078",
     "exception": false,
     "start_time": "2020-08-21T20:33:11.435359",
     "status": "completed"
    },
    "tags": []
   },
   "outputs": [],
   "source": [
    "#copy all test id to create submission file\n",
    "test_id=test['pet_id']\n",
    "#save the train left...it will use when the combine data will split into the previous train and test data after doing feature engineering\n",
    "ntrain=train.shape[0]"
   ]
  },
  {
   "cell_type": "code",
   "execution_count": 10,
   "metadata": {
    "execution": {
     "iopub.execute_input": "2020-08-21T20:33:11.528952Z",
     "iopub.status.busy": "2020-08-21T20:33:11.528035Z",
     "iopub.status.idle": "2020-08-21T20:33:11.532230Z",
     "shell.execute_reply": "2020-08-21T20:33:11.531420Z"
    },
    "papermill": {
     "duration": 0.035495,
     "end_time": "2020-08-21T20:33:11.532404",
     "exception": false,
     "start_time": "2020-08-21T20:33:11.496909",
     "status": "completed"
    },
    "tags": []
   },
   "outputs": [],
   "source": [
    "#save target variable i.e label\n",
    "y1=train['breed_category']\n",
    "y2=train['pet_category']"
   ]
  },
  {
   "cell_type": "code",
   "execution_count": 11,
   "metadata": {
    "execution": {
     "iopub.execute_input": "2020-08-21T20:33:11.599032Z",
     "iopub.status.busy": "2020-08-21T20:33:11.594053Z",
     "iopub.status.idle": "2020-08-21T20:33:11.623471Z",
     "shell.execute_reply": "2020-08-21T20:33:11.624127Z"
    },
    "papermill": {
     "duration": 0.065568,
     "end_time": "2020-08-21T20:33:11.624328",
     "exception": false,
     "start_time": "2020-08-21T20:33:11.558760",
     "status": "completed"
    },
    "tags": []
   },
   "outputs": [],
   "source": [
    "#combine test and train data\n",
    "all_data = pd.concat((train, test)).reset_index(drop=True)\n",
    "all_data.drop(['breed_category','pet_category'], axis=1, inplace=True)"
   ]
  },
  {
   "cell_type": "markdown",
   "metadata": {
    "papermill": {
     "duration": 0.025812,
     "end_time": "2020-08-21T20:33:11.676791",
     "exception": false,
     "start_time": "2020-08-21T20:33:11.650979",
     "status": "completed"
    },
    "tags": []
   },
   "source": [
    "now it's ready to do feature engineering"
   ]
  },
  {
   "cell_type": "markdown",
   "metadata": {
    "papermill": {
     "duration": 0.025643,
     "end_time": "2020-08-21T20:33:11.728532",
     "exception": false,
     "start_time": "2020-08-21T20:33:11.702889",
     "status": "completed"
    },
    "tags": []
   },
   "source": [
    "# Feature Engineering"
   ]
  },
  {
   "cell_type": "markdown",
   "metadata": {
    "papermill": {
     "duration": 0.026519,
     "end_time": "2020-08-21T20:33:11.781060",
     "exception": false,
     "start_time": "2020-08-21T20:33:11.754541",
     "status": "completed"
    },
    "tags": []
   },
   "source": [
    "**missing value fillup with -1**"
   ]
  },
  {
   "cell_type": "code",
   "execution_count": 12,
   "metadata": {
    "execution": {
     "iopub.execute_input": "2020-08-21T20:33:11.839546Z",
     "iopub.status.busy": "2020-08-21T20:33:11.838681Z",
     "iopub.status.idle": "2020-08-21T20:33:11.848137Z",
     "shell.execute_reply": "2020-08-21T20:33:11.847297Z"
    },
    "papermill": {
     "duration": 0.041145,
     "end_time": "2020-08-21T20:33:11.848279",
     "exception": false,
     "start_time": "2020-08-21T20:33:11.807134",
     "status": "completed"
    },
    "tags": []
   },
   "outputs": [
    {
     "data": {
      "text/plain": [
       "1.0    9747\n",
       "0.0    8966\n",
       "2.0    6097\n",
       "Name: condition, dtype: int64"
      ]
     },
     "execution_count": 12,
     "metadata": {},
     "output_type": "execute_result"
    }
   ],
   "source": [
    "all_data['condition'].value_counts()"
   ]
  },
  {
   "cell_type": "code",
   "execution_count": 13,
   "metadata": {
    "execution": {
     "iopub.execute_input": "2020-08-21T20:33:11.908264Z",
     "iopub.status.busy": "2020-08-21T20:33:11.907407Z",
     "iopub.status.idle": "2020-08-21T20:33:11.912626Z",
     "shell.execute_reply": "2020-08-21T20:33:11.911884Z"
    },
    "papermill": {
     "duration": 0.037427,
     "end_time": "2020-08-21T20:33:11.912760",
     "exception": false,
     "start_time": "2020-08-21T20:33:11.875333",
     "status": "completed"
    },
    "tags": []
   },
   "outputs": [],
   "source": [
    "all_data['condition'].fillna(-1,inplace=True)"
   ]
  },
  {
   "cell_type": "code",
   "execution_count": 14,
   "metadata": {
    "execution": {
     "iopub.execute_input": "2020-08-21T20:33:11.972178Z",
     "iopub.status.busy": "2020-08-21T20:33:11.971387Z",
     "iopub.status.idle": "2020-08-21T20:33:11.979569Z",
     "shell.execute_reply": "2020-08-21T20:33:11.978845Z"
    },
    "papermill": {
     "duration": 0.040148,
     "end_time": "2020-08-21T20:33:11.979704",
     "exception": false,
     "start_time": "2020-08-21T20:33:11.939556",
     "status": "completed"
    },
    "tags": []
   },
   "outputs": [
    {
     "data": {
      "text/plain": [
       " 1.0    9747\n",
       " 0.0    8966\n",
       " 2.0    6097\n",
       "-1.0    2096\n",
       "Name: condition, dtype: int64"
      ]
     },
     "execution_count": 14,
     "metadata": {},
     "output_type": "execute_result"
    }
   ],
   "source": [
    "all_data['condition'].value_counts()"
   ]
  },
  {
   "cell_type": "code",
   "execution_count": 15,
   "metadata": {
    "execution": {
     "iopub.execute_input": "2020-08-21T20:33:12.054794Z",
     "iopub.status.busy": "2020-08-21T20:33:12.053886Z",
     "iopub.status.idle": "2020-08-21T20:33:12.069559Z",
     "shell.execute_reply": "2020-08-21T20:33:12.068789Z"
    },
    "papermill": {
     "duration": 0.063029,
     "end_time": "2020-08-21T20:33:12.069716",
     "exception": false,
     "start_time": "2020-08-21T20:33:12.006687",
     "status": "completed"
    },
    "tags": []
   },
   "outputs": [
    {
     "name": "stdout",
     "output_type": "stream",
     "text": [
      "<class 'pandas.core.frame.DataFrame'>\n",
      "RangeIndex: 26906 entries, 0 to 26905\n",
      "Data columns (total 9 columns):\n",
      " #   Column        Non-Null Count  Dtype  \n",
      "---  ------        --------------  -----  \n",
      " 0   pet_id        26906 non-null  object \n",
      " 1   issue_date    26906 non-null  object \n",
      " 2   listing_date  26906 non-null  object \n",
      " 3   condition     26906 non-null  float64\n",
      " 4   color_type    26906 non-null  object \n",
      " 5   length(m)     26906 non-null  float64\n",
      " 6   height(cm)    26906 non-null  float64\n",
      " 7   X1            26906 non-null  int64  \n",
      " 8   X2            26906 non-null  int64  \n",
      "dtypes: float64(3), int64(2), object(4)\n",
      "memory usage: 1.8+ MB\n"
     ]
    }
   ],
   "source": [
    "all_data.info()"
   ]
  },
  {
   "cell_type": "markdown",
   "metadata": {
    "papermill": {
     "duration": 0.026708,
     "end_time": "2020-08-21T20:33:12.124911",
     "exception": false,
     "start_time": "2020-08-21T20:33:12.098203",
     "status": "completed"
    },
    "tags": []
   },
   "source": [
    "So, there is no null values in any column of all_data."
   ]
  },
  {
   "cell_type": "code",
   "execution_count": null,
   "metadata": {
    "papermill": {
     "duration": 0.026712,
     "end_time": "2020-08-21T20:33:12.179146",
     "exception": false,
     "start_time": "2020-08-21T20:33:12.152434",
     "status": "completed"
    },
    "tags": []
   },
   "outputs": [],
   "source": []
  },
  {
   "cell_type": "markdown",
   "metadata": {
    "papermill": {
     "duration": 0.027096,
     "end_time": "2020-08-21T20:33:12.234271",
     "exception": false,
     "start_time": "2020-08-21T20:33:12.207175",
     "status": "completed"
    },
    "tags": []
   },
   "source": [
    "**seasonal feature(new feature)**"
   ]
  },
  {
   "cell_type": "markdown",
   "metadata": {
    "papermill": {
     "duration": 0.027073,
     "end_time": "2020-08-21T20:33:12.345591",
     "exception": false,
     "start_time": "2020-08-21T20:33:12.318518",
     "status": "completed"
    },
    "tags": []
   },
   "source": [
    "Since all the pets are not found in the same season,  it is an important feature. For example,\n",
    "*  Best Birth Months for the Dog: January, February, March, August, December\n",
    "*  Best Birth Months for the Dog: March, April, July, August.\n",
    "* so both are not same."
   ]
  },
  {
   "cell_type": "code",
   "execution_count": 16,
   "metadata": {
    "execution": {
     "iopub.execute_input": "2020-08-21T20:33:12.432680Z",
     "iopub.status.busy": "2020-08-21T20:33:12.419087Z",
     "iopub.status.idle": "2020-08-21T20:33:12.438269Z",
     "shell.execute_reply": "2020-08-21T20:33:12.439007Z"
    },
    "papermill": {
     "duration": 0.064716,
     "end_time": "2020-08-21T20:33:12.439187",
     "exception": false,
     "start_time": "2020-08-21T20:33:12.374471",
     "status": "completed"
    },
    "tags": []
   },
   "outputs": [],
   "source": [
    "all_data['issue_date']=pd.to_datetime(all_data['issue_date'])\n",
    "all_data['listing_date']=pd.to_datetime(all_data['listing_date'])\n"
   ]
  },
  {
   "cell_type": "code",
   "execution_count": 17,
   "metadata": {
    "execution": {
     "iopub.execute_input": "2020-08-21T20:33:12.641488Z",
     "iopub.status.busy": "2020-08-21T20:33:12.640657Z",
     "iopub.status.idle": "2020-08-21T20:33:12.644824Z",
     "shell.execute_reply": "2020-08-21T20:33:12.644051Z"
    },
    "papermill": {
     "duration": 0.178124,
     "end_time": "2020-08-21T20:33:12.644959",
     "exception": false,
     "start_time": "2020-08-21T20:33:12.466835",
     "status": "completed"
    },
    "tags": []
   },
   "outputs": [],
   "source": [
    "x=[]\n",
    "for d in all_data['issue_date']:\n",
    "    y=d.month\n",
    "    x.append(y)\n",
    "all_data['issue_month']=x"
   ]
  },
  {
   "cell_type": "code",
   "execution_count": 18,
   "metadata": {
    "execution": {
     "iopub.execute_input": "2020-08-21T20:33:12.779288Z",
     "iopub.status.busy": "2020-08-21T20:33:12.778178Z",
     "iopub.status.idle": "2020-08-21T20:33:12.786459Z",
     "shell.execute_reply": "2020-08-21T20:33:12.785471Z"
    },
    "papermill": {
     "duration": 0.114759,
     "end_time": "2020-08-21T20:33:12.786616",
     "exception": false,
     "start_time": "2020-08-21T20:33:12.671857",
     "status": "completed"
    },
    "tags": []
   },
   "outputs": [],
   "source": [
    "x=[]\n",
    "for d in all_data['listing_date']:\n",
    "    y=d.month\n",
    "    x.append(y)\n",
    "all_data['listing_month']=x"
   ]
  },
  {
   "cell_type": "markdown",
   "metadata": {
    "papermill": {
     "duration": 0.034466,
     "end_time": "2020-08-21T20:33:12.849952",
     "exception": false,
     "start_time": "2020-08-21T20:33:12.815486",
     "status": "completed"
    },
    "tags": []
   },
   "source": [
    "**time difference between issue and listing date(new feature)**"
   ]
  },
  {
   "cell_type": "markdown",
   "metadata": {
    "papermill": {
     "duration": 0.030917,
     "end_time": "2020-08-21T20:33:12.917745",
     "exception": false,
     "start_time": "2020-08-21T20:33:12.886828",
     "status": "completed"
    },
    "tags": []
   },
   "source": [
    "It will be a great feature as all the animals which are available in shelter must be matured. Maybe, the issue date can be considered as birth time and the listing date as the time of the animals' being matured for staying in shelter. So, the difference between two of them indicates the time for getting mature of an animal which is not same for all the animals. Therefore, it is also an important feature.  "
   ]
  },
  {
   "cell_type": "code",
   "execution_count": 19,
   "metadata": {
    "execution": {
     "iopub.execute_input": "2020-08-21T20:33:13.061222Z",
     "iopub.status.busy": "2020-08-21T20:33:13.053676Z",
     "iopub.status.idle": "2020-08-21T20:33:13.065926Z",
     "shell.execute_reply": "2020-08-21T20:33:13.065054Z"
    },
    "papermill": {
     "duration": 0.112655,
     "end_time": "2020-08-21T20:33:13.066086",
     "exception": false,
     "start_time": "2020-08-21T20:33:12.953431",
     "status": "completed"
    },
    "tags": []
   },
   "outputs": [],
   "source": [
    "x=[]\n",
    "for d in all_data['listing_date']:\n",
    "    y=d.year+(d.month/12.0)+(d.day/365.0)\n",
    "    x.append(y)\n",
    "all_data['modified_listing_date']=x"
   ]
  },
  {
   "cell_type": "code",
   "execution_count": 20,
   "metadata": {
    "execution": {
     "iopub.execute_input": "2020-08-21T20:33:13.177360Z",
     "iopub.status.busy": "2020-08-21T20:33:13.172050Z",
     "iopub.status.idle": "2020-08-21T20:33:13.281277Z",
     "shell.execute_reply": "2020-08-21T20:33:13.281945Z"
    },
    "papermill": {
     "duration": 0.183045,
     "end_time": "2020-08-21T20:33:13.282123",
     "exception": false,
     "start_time": "2020-08-21T20:33:13.099078",
     "status": "completed"
    },
    "tags": []
   },
   "outputs": [],
   "source": [
    "x=[]\n",
    "for d in all_data['issue_date']:\n",
    "    y=d.year+(d.month/12.0)+(d.day/365.0)\n",
    "    x.append(y)\n",
    "all_data['modified_issue_date']=x"
   ]
  },
  {
   "cell_type": "code",
   "execution_count": 21,
   "metadata": {
    "execution": {
     "iopub.execute_input": "2020-08-21T20:33:13.343231Z",
     "iopub.status.busy": "2020-08-21T20:33:13.342401Z",
     "iopub.status.idle": "2020-08-21T20:33:13.374092Z",
     "shell.execute_reply": "2020-08-21T20:33:13.373370Z"
    },
    "papermill": {
     "duration": 0.06507,
     "end_time": "2020-08-21T20:33:13.374257",
     "exception": false,
     "start_time": "2020-08-21T20:33:13.309187",
     "status": "completed"
    },
    "tags": []
   },
   "outputs": [],
   "source": [
    "all_data['took_time']=abs(all_data['modified_listing_date']-all_data['modified_issue_date'])"
   ]
  },
  {
   "cell_type": "markdown",
   "metadata": {
    "papermill": {
     "duration": 0.026318,
     "end_time": "2020-08-21T20:33:13.427561",
     "exception": false,
     "start_time": "2020-08-21T20:33:13.401243",
     "status": "completed"
    },
    "tags": []
   },
   "source": [
    "**Modified pet id and extract important feature**"
   ]
  },
  {
   "cell_type": "markdown",
   "metadata": {
    "papermill": {
     "duration": 0.026984,
     "end_time": "2020-08-21T20:33:13.481752",
     "exception": false,
     "start_time": "2020-08-21T20:33:13.454768",
     "status": "completed"
    },
    "tags": []
   },
   "source": [
    "* when the dataset was creating, it might be happened that it was listing with special id for a particular animal.\n",
    "* just like ANSL_69903.so,all ANSL_6**** i.e., the id starts with 6 maybe a particular animal because we can see that all the ids are not coming serially.\n",
    "* so extracting the 1st and both 1st and 2nd numbers maybe a good feature."
   ]
  },
  {
   "cell_type": "code",
   "execution_count": 22,
   "metadata": {
    "execution": {
     "iopub.execute_input": "2020-08-21T20:33:13.574472Z",
     "iopub.status.busy": "2020-08-21T20:33:13.569423Z",
     "iopub.status.idle": "2020-08-21T20:33:13.580733Z",
     "shell.execute_reply": "2020-08-21T20:33:13.580039Z"
    },
    "papermill": {
     "duration": 0.071824,
     "end_time": "2020-08-21T20:33:13.581105",
     "exception": false,
     "start_time": "2020-08-21T20:33:13.509281",
     "status": "completed"
    },
    "tags": []
   },
   "outputs": [],
   "source": [
    "\n",
    "all_data['1stnum'] = all_data['pet_id'].str[:6]\n",
    "all_data['1st2num'] = all_data['pet_id'].str[:7]"
   ]
  },
  {
   "cell_type": "code",
   "execution_count": null,
   "metadata": {
    "papermill": {
     "duration": 0.02653,
     "end_time": "2020-08-21T20:33:13.634930",
     "exception": false,
     "start_time": "2020-08-21T20:33:13.608400",
     "status": "completed"
    },
    "tags": []
   },
   "outputs": [],
   "source": []
  },
  {
   "cell_type": "markdown",
   "metadata": {
    "papermill": {
     "duration": 0.026759,
     "end_time": "2020-08-21T20:33:13.688659",
     "exception": false,
     "start_time": "2020-08-21T20:33:13.661900",
     "status": "completed"
    },
    "tags": []
   },
   "source": [
    "split back to the train and test data"
   ]
  },
  {
   "cell_type": "code",
   "execution_count": 23,
   "metadata": {
    "execution": {
     "iopub.execute_input": "2020-08-21T20:33:13.749440Z",
     "iopub.status.busy": "2020-08-21T20:33:13.748623Z",
     "iopub.status.idle": "2020-08-21T20:33:13.752455Z",
     "shell.execute_reply": "2020-08-21T20:33:13.751656Z"
    },
    "papermill": {
     "duration": 0.036939,
     "end_time": "2020-08-21T20:33:13.752585",
     "exception": false,
     "start_time": "2020-08-21T20:33:13.715646",
     "status": "completed"
    },
    "tags": []
   },
   "outputs": [],
   "source": [
    "train = all_data[:ntrain]\n",
    "test = all_data[ntrain:]"
   ]
  },
  {
   "cell_type": "code",
   "execution_count": 24,
   "metadata": {
    "execution": {
     "iopub.execute_input": "2020-08-21T20:33:13.815184Z",
     "iopub.status.busy": "2020-08-21T20:33:13.814290Z",
     "iopub.status.idle": "2020-08-21T20:33:13.831066Z",
     "shell.execute_reply": "2020-08-21T20:33:13.830095Z"
    },
    "papermill": {
     "duration": 0.051143,
     "end_time": "2020-08-21T20:33:13.831218",
     "exception": false,
     "start_time": "2020-08-21T20:33:13.780075",
     "status": "completed"
    },
    "tags": []
   },
   "outputs": [],
   "source": [
    "#drop some unnecessary features\n",
    "x=train.drop(['pet_id','issue_date','listing_date','modified_issue_date'],axis=1)\n",
    "test=test.drop(['pet_id','issue_date','listing_date','modified_issue_date'],axis=1)\n"
   ]
  },
  {
   "cell_type": "code",
   "execution_count": null,
   "metadata": {
    "papermill": {
     "duration": 0.027085,
     "end_time": "2020-08-21T20:33:13.886548",
     "exception": false,
     "start_time": "2020-08-21T20:33:13.859463",
     "status": "completed"
    },
    "tags": []
   },
   "outputs": [],
   "source": []
  },
  {
   "cell_type": "markdown",
   "metadata": {
    "papermill": {
     "duration": 0.027787,
     "end_time": "2020-08-21T20:33:13.942478",
     "exception": false,
     "start_time": "2020-08-21T20:33:13.914691",
     "status": "completed"
    },
    "tags": []
   },
   "source": [
    "* **handle categorical variable**"
   ]
  },
  {
   "cell_type": "code",
   "execution_count": 25,
   "metadata": {
    "execution": {
     "iopub.execute_input": "2020-08-21T20:33:14.008219Z",
     "iopub.status.busy": "2020-08-21T20:33:14.007254Z",
     "iopub.status.idle": "2020-08-21T20:33:14.019209Z",
     "shell.execute_reply": "2020-08-21T20:33:14.018255Z"
    },
    "papermill": {
     "duration": 0.048931,
     "end_time": "2020-08-21T20:33:14.019369",
     "exception": false,
     "start_time": "2020-08-21T20:33:13.970438",
     "status": "completed"
    },
    "tags": []
   },
   "outputs": [
    {
     "data": {
      "text/plain": [
       "['color_type', '1stnum', '1st2num']"
      ]
     },
     "execution_count": 25,
     "metadata": {},
     "output_type": "execute_result"
    }
   ],
   "source": [
    "x.select_dtypes(exclude='number').columns.to_list()"
   ]
  },
  {
   "cell_type": "markdown",
   "metadata": {
    "papermill": {
     "duration": 0.026739,
     "end_time": "2020-08-21T20:33:14.074985",
     "exception": false,
     "start_time": "2020-08-21T20:33:14.048246",
     "status": "completed"
    },
    "tags": []
   },
   "source": [
    "There are a lot of ways to handle categorical variables:\n",
    "* Replacing values\n",
    "* Encoding labels\n",
    "* One-Hot encoding\n",
    "* Binary encoding\n",
    "* Backward difference encoding\n",
    "* Miscellaneous features\n",
    "* I used one-hot encoding and achived a great score"
   ]
  },
  {
   "cell_type": "markdown",
   "metadata": {
    "papermill": {
     "duration": 0.027943,
     "end_time": "2020-08-21T20:33:14.130727",
     "exception": false,
     "start_time": "2020-08-21T20:33:14.102784",
     "status": "completed"
    },
    "tags": []
   },
   "source": [
    "One Hot endcode"
   ]
  },
  {
   "cell_type": "code",
   "execution_count": 26,
   "metadata": {
    "execution": {
     "iopub.execute_input": "2020-08-21T20:33:14.192269Z",
     "iopub.status.busy": "2020-08-21T20:33:14.191057Z",
     "iopub.status.idle": "2020-08-21T20:33:14.195070Z",
     "shell.execute_reply": "2020-08-21T20:33:14.195728Z"
    },
    "papermill": {
     "duration": 0.038017,
     "end_time": "2020-08-21T20:33:14.195924",
     "exception": false,
     "start_time": "2020-08-21T20:33:14.157907",
     "status": "completed"
    },
    "tags": []
   },
   "outputs": [
    {
     "data": {
      "text/plain": [
       "(18834, 12)"
      ]
     },
     "execution_count": 26,
     "metadata": {},
     "output_type": "execute_result"
    }
   ],
   "source": [
    "x.shape"
   ]
  },
  {
   "cell_type": "code",
   "execution_count": 27,
   "metadata": {
    "execution": {
     "iopub.execute_input": "2020-08-21T20:33:14.265926Z",
     "iopub.status.busy": "2020-08-21T20:33:14.265075Z",
     "iopub.status.idle": "2020-08-21T20:33:14.301113Z",
     "shell.execute_reply": "2020-08-21T20:33:14.300216Z"
    },
    "papermill": {
     "duration": 0.077088,
     "end_time": "2020-08-21T20:33:14.301279",
     "exception": false,
     "start_time": "2020-08-21T20:33:14.224191",
     "status": "completed"
    },
    "tags": []
   },
   "outputs": [],
   "source": [
    "x=pd.get_dummies(x)\n",
    "test=pd.get_dummies(test)\n"
   ]
  },
  {
   "cell_type": "code",
   "execution_count": 28,
   "metadata": {
    "execution": {
     "iopub.execute_input": "2020-08-21T20:33:14.366629Z",
     "iopub.status.busy": "2020-08-21T20:33:14.365629Z",
     "iopub.status.idle": "2020-08-21T20:33:14.370825Z",
     "shell.execute_reply": "2020-08-21T20:33:14.369957Z"
    },
    "papermill": {
     "duration": 0.041437,
     "end_time": "2020-08-21T20:33:14.370973",
     "exception": false,
     "start_time": "2020-08-21T20:33:14.329536",
     "status": "completed"
    },
    "tags": []
   },
   "outputs": [
    {
     "data": {
      "text/plain": [
       "((18834, 97), (8072, 95))"
      ]
     },
     "execution_count": 28,
     "metadata": {},
     "output_type": "execute_result"
    }
   ],
   "source": [
    "x.shape,test.shape"
   ]
  },
  {
   "cell_type": "code",
   "execution_count": null,
   "metadata": {
    "papermill": {
     "duration": 0.027807,
     "end_time": "2020-08-21T20:33:14.427016",
     "exception": false,
     "start_time": "2020-08-21T20:33:14.399209",
     "status": "completed"
    },
    "tags": []
   },
   "outputs": [],
   "source": []
  },
  {
   "cell_type": "markdown",
   "metadata": {
    "papermill": {
     "duration": 0.027533,
     "end_time": "2020-08-21T20:33:14.482585",
     "exception": false,
     "start_time": "2020-08-21T20:33:14.455052",
     "status": "completed"
    },
    "tags": []
   },
   "source": [
    "You can see that both shapes are not same. Train has 97 and test has 95 columns. It means the train and test data contain 2 extra columns after one-hot endcoding. We have to remove these 2 columns from the train data."
   ]
  },
  {
   "cell_type": "code",
   "execution_count": 29,
   "metadata": {
    "execution": {
     "iopub.execute_input": "2020-08-21T20:33:14.546899Z",
     "iopub.status.busy": "2020-08-21T20:33:14.545784Z",
     "iopub.status.idle": "2020-08-21T20:33:14.549329Z",
     "shell.execute_reply": "2020-08-21T20:33:14.548555Z"
    },
    "papermill": {
     "duration": 0.038152,
     "end_time": "2020-08-21T20:33:14.549460",
     "exception": false,
     "start_time": "2020-08-21T20:33:14.511308",
     "status": "completed"
    },
    "tags": []
   },
   "outputs": [],
   "source": [
    "a=set(x.columns)-set(test.columns)"
   ]
  },
  {
   "cell_type": "code",
   "execution_count": 30,
   "metadata": {
    "execution": {
     "iopub.execute_input": "2020-08-21T20:33:14.611722Z",
     "iopub.status.busy": "2020-08-21T20:33:14.610862Z",
     "iopub.status.idle": "2020-08-21T20:33:14.616385Z",
     "shell.execute_reply": "2020-08-21T20:33:14.615245Z"
    },
    "papermill": {
     "duration": 0.039168,
     "end_time": "2020-08-21T20:33:14.616529",
     "exception": false,
     "start_time": "2020-08-21T20:33:14.577361",
     "status": "completed"
    },
    "tags": []
   },
   "outputs": [
    {
     "data": {
      "text/plain": [
       "['color_type_Brown Tiger', 'color_type_Black Tiger']"
      ]
     },
     "execution_count": 30,
     "metadata": {},
     "output_type": "execute_result"
    }
   ],
   "source": [
    "a=list(a)\n",
    "a"
   ]
  },
  {
   "cell_type": "code",
   "execution_count": 31,
   "metadata": {
    "execution": {
     "iopub.execute_input": "2020-08-21T20:33:14.681279Z",
     "iopub.status.busy": "2020-08-21T20:33:14.680433Z",
     "iopub.status.idle": "2020-08-21T20:33:14.692211Z",
     "shell.execute_reply": "2020-08-21T20:33:14.692880Z"
    },
    "papermill": {
     "duration": 0.047974,
     "end_time": "2020-08-21T20:33:14.693071",
     "exception": false,
     "start_time": "2020-08-21T20:33:14.645097",
     "status": "completed"
    },
    "tags": []
   },
   "outputs": [],
   "source": [
    "x=x.drop(a,axis=1)"
   ]
  },
  {
   "cell_type": "code",
   "execution_count": 32,
   "metadata": {
    "execution": {
     "iopub.execute_input": "2020-08-21T20:33:14.756227Z",
     "iopub.status.busy": "2020-08-21T20:33:14.755121Z",
     "iopub.status.idle": "2020-08-21T20:33:14.760031Z",
     "shell.execute_reply": "2020-08-21T20:33:14.759246Z"
    },
    "papermill": {
     "duration": 0.038981,
     "end_time": "2020-08-21T20:33:14.760166",
     "exception": false,
     "start_time": "2020-08-21T20:33:14.721185",
     "status": "completed"
    },
    "tags": []
   },
   "outputs": [
    {
     "data": {
      "text/plain": [
       "((18834, 95), (8072, 95))"
      ]
     },
     "execution_count": 32,
     "metadata": {},
     "output_type": "execute_result"
    }
   ],
   "source": [
    "x.shape,test.shape"
   ]
  },
  {
   "cell_type": "code",
   "execution_count": 33,
   "metadata": {
    "execution": {
     "iopub.execute_input": "2020-08-21T20:33:14.824201Z",
     "iopub.status.busy": "2020-08-21T20:33:14.822957Z",
     "iopub.status.idle": "2020-08-21T20:33:14.844278Z",
     "shell.execute_reply": "2020-08-21T20:33:14.844969Z"
    },
    "papermill": {
     "duration": 0.056468,
     "end_time": "2020-08-21T20:33:14.845170",
     "exception": false,
     "start_time": "2020-08-21T20:33:14.788702",
     "status": "completed"
    },
    "tags": []
   },
   "outputs": [],
   "source": [
    "#again combining\n",
    "all_data = pd.concat((x, test)).reset_index(drop=True)"
   ]
  },
  {
   "cell_type": "markdown",
   "metadata": {
    "papermill": {
     "duration": 0.028429,
     "end_time": "2020-08-21T20:33:14.902750",
     "exception": false,
     "start_time": "2020-08-21T20:33:14.874321",
     "status": "completed"
    },
    "tags": []
   },
   "source": [
    "**Scaling using StandardScaler()**"
   ]
  },
  {
   "cell_type": "code",
   "execution_count": 34,
   "metadata": {
    "execution": {
     "iopub.execute_input": "2020-08-21T20:33:14.968165Z",
     "iopub.status.busy": "2020-08-21T20:33:14.967158Z",
     "iopub.status.idle": "2020-08-21T20:33:16.362328Z",
     "shell.execute_reply": "2020-08-21T20:33:16.361499Z"
    },
    "papermill": {
     "duration": 1.430758,
     "end_time": "2020-08-21T20:33:16.362494",
     "exception": false,
     "start_time": "2020-08-21T20:33:14.931736",
     "status": "completed"
    },
    "tags": []
   },
   "outputs": [],
   "source": [
    "from sklearn import preprocessing\n",
    "# Get column names first\n",
    "names = all_data.columns\n",
    "# Create the Scaler object\n",
    "scaler = preprocessing.StandardScaler()\n",
    "# Fit your data on the scaler object\n",
    "scaled_df = scaler.fit_transform(all_data)\n",
    "all_data = pd.DataFrame(scaled_df, columns=names)"
   ]
  },
  {
   "cell_type": "markdown",
   "metadata": {
    "papermill": {
     "duration": 0.028164,
     "end_time": "2020-08-21T20:33:16.419320",
     "exception": false,
     "start_time": "2020-08-21T20:33:16.391156",
     "status": "completed"
    },
    "tags": []
   },
   "source": [
    "# split data for 1st model i.e., pet_category prediction"
   ]
  },
  {
   "cell_type": "code",
   "execution_count": 35,
   "metadata": {
    "execution": {
     "iopub.execute_input": "2020-08-21T20:33:16.483582Z",
     "iopub.status.busy": "2020-08-21T20:33:16.482739Z",
     "iopub.status.idle": "2020-08-21T20:33:16.487169Z",
     "shell.execute_reply": "2020-08-21T20:33:16.486549Z"
    },
    "papermill": {
     "duration": 0.039168,
     "end_time": "2020-08-21T20:33:16.487325",
     "exception": false,
     "start_time": "2020-08-21T20:33:16.448157",
     "status": "completed"
    },
    "tags": []
   },
   "outputs": [],
   "source": [
    "x = all_data[:ntrain]\n",
    "test = all_data[ntrain:]"
   ]
  },
  {
   "cell_type": "code",
   "execution_count": 36,
   "metadata": {
    "execution": {
     "iopub.execute_input": "2020-08-21T20:33:16.552979Z",
     "iopub.status.busy": "2020-08-21T20:33:16.552063Z",
     "iopub.status.idle": "2020-08-21T20:33:16.654949Z",
     "shell.execute_reply": "2020-08-21T20:33:16.653929Z"
    },
    "papermill": {
     "duration": 0.138514,
     "end_time": "2020-08-21T20:33:16.655112",
     "exception": false,
     "start_time": "2020-08-21T20:33:16.516598",
     "status": "completed"
    },
    "tags": []
   },
   "outputs": [],
   "source": [
    "from sklearn.model_selection import train_test_split\n",
    "x1_train,x1_test,y1_train,y1_test=train_test_split(x,y2,test_size=0.2,random_state=44,shuffle=True)"
   ]
  },
  {
   "cell_type": "markdown",
   "metadata": {
    "papermill": {
     "duration": 0.028673,
     "end_time": "2020-08-21T20:33:16.712926",
     "exception": false,
     "start_time": "2020-08-21T20:33:16.684253",
     "status": "completed"
    },
    "tags": []
   },
   "source": [
    "# model 1 build i.e pet_category prediction"
   ]
  },
  {
   "cell_type": "markdown",
   "metadata": {
    "papermill": {
     "duration": 0.028683,
     "end_time": "2020-08-21T20:33:16.770781",
     "exception": false,
     "start_time": "2020-08-21T20:33:16.742098",
     "status": "completed"
    },
    "tags": []
   },
   "source": [
    "* I will not provide the hyperparameter tuning of model. After all, it is a small task for you. I will update it with that.\n",
    "* i think you should try yourself to obtain a good score.\n",
    "* I will just give you an example, but I can't promise that it will give you my final score of 91.06. To achive that, you must do hyperparameter tuning."
   ]
  },
  {
   "cell_type": "code",
   "execution_count": 37,
   "metadata": {
    "execution": {
     "iopub.execute_input": "2020-08-21T20:33:16.835059Z",
     "iopub.status.busy": "2020-08-21T20:33:16.834221Z",
     "iopub.status.idle": "2020-08-21T20:33:18.094639Z",
     "shell.execute_reply": "2020-08-21T20:33:18.093759Z"
    },
    "papermill": {
     "duration": 1.294865,
     "end_time": "2020-08-21T20:33:18.094798",
     "exception": false,
     "start_time": "2020-08-21T20:33:16.799933",
     "status": "completed"
    },
    "tags": []
   },
   "outputs": [],
   "source": [
    "from xgboost import XGBClassifier"
   ]
  },
  {
   "cell_type": "code",
   "execution_count": 38,
   "metadata": {
    "execution": {
     "iopub.execute_input": "2020-08-21T20:33:18.161004Z",
     "iopub.status.busy": "2020-08-21T20:33:18.160158Z",
     "iopub.status.idle": "2020-08-21T20:33:29.478861Z",
     "shell.execute_reply": "2020-08-21T20:33:29.479877Z"
    },
    "papermill": {
     "duration": 11.355518,
     "end_time": "2020-08-21T20:33:29.480075",
     "exception": false,
     "start_time": "2020-08-21T20:33:18.124557",
     "status": "completed"
    },
    "tags": []
   },
   "outputs": [
    {
     "data": {
      "text/plain": [
       "XGBClassifier(base_score=0.5, booster='gbtree', colsample_bylevel=1,\n",
       "              colsample_bynode=1, colsample_bytree=1, gamma=0, gpu_id=-1,\n",
       "              importance_type='gain', interaction_constraints='',\n",
       "              learning_rate=0.300000012, max_delta_step=0, max_depth=6,\n",
       "              min_child_weight=1, missing=nan, monotone_constraints='()',\n",
       "              n_estimators=100, n_jobs=0, num_parallel_tree=1,\n",
       "              objective='multi:softprob', random_state=0, reg_alpha=0,\n",
       "              reg_lambda=1, scale_pos_weight=None, subsample=1,\n",
       "              tree_method='exact', validate_parameters=1, verbosity=None)"
      ]
     },
     "execution_count": 38,
     "metadata": {},
     "output_type": "execute_result"
    }
   ],
   "source": [
    "model1 = XGBClassifier()\n",
    "model1.fit(x1_train, y1_train)"
   ]
  },
  {
   "cell_type": "markdown",
   "metadata": {
    "papermill": {
     "duration": 0.034382,
     "end_time": "2020-08-21T20:33:29.549583",
     "exception": false,
     "start_time": "2020-08-21T20:33:29.515201",
     "status": "completed"
    },
    "tags": []
   },
   "source": [
    "# build 2nd model i.e predict breed_category"
   ]
  },
  {
   "cell_type": "markdown",
   "metadata": {
    "papermill": {
     "duration": 0.034766,
     "end_time": "2020-08-21T20:33:29.619716",
     "exception": false,
     "start_time": "2020-08-21T20:33:29.584950",
     "status": "completed"
    },
    "tags": []
   },
   "source": [
    "We will use the output of **MODEL 1** as an input feature of **MODEL 2** .Trust me, it will increase your score."
   ]
  },
  {
   "cell_type": "markdown",
   "metadata": {
    "papermill": {
     "duration": 0.030995,
     "end_time": "2020-08-21T20:33:29.685603",
     "exception": false,
     "start_time": "2020-08-21T20:33:29.654608",
     "status": "completed"
    },
    "tags": []
   },
   "source": [
    "build new dataset for model 2"
   ]
  },
  {
   "cell_type": "code",
   "execution_count": 39,
   "metadata": {
    "execution": {
     "iopub.execute_input": "2020-08-21T20:33:29.754688Z",
     "iopub.status.busy": "2020-08-21T20:33:29.753768Z",
     "iopub.status.idle": "2020-08-21T20:33:30.097146Z",
     "shell.execute_reply": "2020-08-21T20:33:30.097905Z"
    },
    "papermill": {
     "duration": 0.382907,
     "end_time": "2020-08-21T20:33:30.098108",
     "exception": false,
     "start_time": "2020-08-21T20:33:29.715201",
     "status": "completed"
    },
    "tags": []
   },
   "outputs": [],
   "source": [
    "#new_feat is new feature i.e the predicted pet_category of model 1 for train data\n",
    "new_feat=model1.predict(x)\n",
    "#output1 is new first output i.e the predicted pet_category of model 1 for test data\n",
    "output1=model1.predict(test)\n",
    "#vld1 is validation 1 i.e we'll check score with the predicted result of validation data of model 1\n",
    "vld1=model1.predict(x1_test)"
   ]
  },
  {
   "cell_type": "code",
   "execution_count": 40,
   "metadata": {
    "execution": {
     "iopub.execute_input": "2020-08-21T20:33:30.180679Z",
     "iopub.status.busy": "2020-08-21T20:33:30.177106Z",
     "iopub.status.idle": "2020-08-21T20:33:30.181695Z",
     "shell.execute_reply": "2020-08-21T20:33:30.182435Z"
    },
    "papermill": {
     "duration": 0.04805,
     "end_time": "2020-08-21T20:33:30.182630",
     "exception": false,
     "start_time": "2020-08-21T20:33:30.134580",
     "status": "completed"
    },
    "tags": []
   },
   "outputs": [],
   "source": [
    "x2 = pd.DataFrame(x, columns=names)\n",
    "test2 = pd.DataFrame(test, columns=names)"
   ]
  },
  {
   "cell_type": "code",
   "execution_count": 41,
   "metadata": {
    "execution": {
     "iopub.execute_input": "2020-08-21T20:33:30.263257Z",
     "iopub.status.busy": "2020-08-21T20:33:30.259778Z",
     "iopub.status.idle": "2020-08-21T20:33:30.264255Z",
     "shell.execute_reply": "2020-08-21T20:33:30.264920Z"
    },
    "papermill": {
     "duration": 0.047943,
     "end_time": "2020-08-21T20:33:30.265111",
     "exception": false,
     "start_time": "2020-08-21T20:33:30.217168",
     "status": "completed"
    },
    "tags": []
   },
   "outputs": [],
   "source": [
    "#the predicted pet_category of model 1 for train data is used as a input variable or feature of the train data of model 2\n",
    "x2['output1']=new_feat\n",
    "#the predicted pet_category of model 1 for test data is used as a input variable or feature of the test data of model 2\n",
    "test2['output1']=output1"
   ]
  },
  {
   "cell_type": "markdown",
   "metadata": {
    "papermill": {
     "duration": 0.029155,
     "end_time": "2020-08-21T20:33:30.327208",
     "exception": false,
     "start_time": "2020-08-21T20:33:30.298053",
     "status": "completed"
    },
    "tags": []
   },
   "source": [
    "**split data for model 2**"
   ]
  },
  {
   "cell_type": "code",
   "execution_count": 42,
   "metadata": {
    "execution": {
     "iopub.execute_input": "2020-08-21T20:33:30.394441Z",
     "iopub.status.busy": "2020-08-21T20:33:30.393086Z",
     "iopub.status.idle": "2020-08-21T20:33:30.409077Z",
     "shell.execute_reply": "2020-08-21T20:33:30.408392Z"
    },
    "papermill": {
     "duration": 0.052583,
     "end_time": "2020-08-21T20:33:30.409208",
     "exception": false,
     "start_time": "2020-08-21T20:33:30.356625",
     "status": "completed"
    },
    "tags": []
   },
   "outputs": [],
   "source": [
    "x2_train,x2_test,y2_train,y2_test=train_test_split(x2,y1,test_size=0.2,random_state=44)"
   ]
  },
  {
   "cell_type": "markdown",
   "metadata": {
    "papermill": {
     "duration": 0.028483,
     "end_time": "2020-08-21T20:33:30.466767",
     "exception": false,
     "start_time": "2020-08-21T20:33:30.438284",
     "status": "completed"
    },
    "tags": []
   },
   "source": [
    "**Build model 2 and train the model with new data**"
   ]
  },
  {
   "cell_type": "code",
   "execution_count": 43,
   "metadata": {
    "execution": {
     "iopub.execute_input": "2020-08-21T20:33:30.531331Z",
     "iopub.status.busy": "2020-08-21T20:33:30.530196Z",
     "iopub.status.idle": "2020-08-21T20:33:37.148886Z",
     "shell.execute_reply": "2020-08-21T20:33:37.149947Z"
    },
    "papermill": {
     "duration": 6.654315,
     "end_time": "2020-08-21T20:33:37.150146",
     "exception": false,
     "start_time": "2020-08-21T20:33:30.495831",
     "status": "completed"
    },
    "tags": []
   },
   "outputs": [
    {
     "data": {
      "text/plain": [
       "XGBClassifier(base_score=0.5, booster='gbtree', colsample_bylevel=1,\n",
       "              colsample_bynode=1, colsample_bytree=1, gamma=0, gpu_id=-1,\n",
       "              importance_type='gain', interaction_constraints='',\n",
       "              learning_rate=0.300000012, max_delta_step=0, max_depth=6,\n",
       "              min_child_weight=1, missing=nan, monotone_constraints='()',\n",
       "              n_estimators=100, n_jobs=0, num_parallel_tree=1,\n",
       "              objective='multi:softprob', random_state=0, reg_alpha=0,\n",
       "              reg_lambda=1, scale_pos_weight=None, subsample=1,\n",
       "              tree_method='exact', validate_parameters=1, verbosity=None)"
      ]
     },
     "execution_count": 43,
     "metadata": {},
     "output_type": "execute_result"
    }
   ],
   "source": [
    "model2 = XGBClassifier()\n",
    "model2.fit(x2_train, y2_train)"
   ]
  },
  {
   "cell_type": "code",
   "execution_count": 44,
   "metadata": {
    "execution": {
     "iopub.execute_input": "2020-08-21T20:33:37.229434Z",
     "iopub.status.busy": "2020-08-21T20:33:37.228478Z",
     "iopub.status.idle": "2020-08-21T20:33:37.332113Z",
     "shell.execute_reply": "2020-08-21T20:33:37.332877Z"
    },
    "papermill": {
     "duration": 0.147688,
     "end_time": "2020-08-21T20:33:37.333089",
     "exception": false,
     "start_time": "2020-08-21T20:33:37.185401",
     "status": "completed"
    },
    "tags": []
   },
   "outputs": [],
   "source": [
    "#output 2 is the predicted breed_category of model 2 for test data\n",
    "output2=model2.predict(test)\n",
    "#vld2 is validation 2 i.e we'll check score with the predicted result of validation data of model 2\n",
    "vld2=model2.predict(x2_test)"
   ]
  },
  {
   "cell_type": "markdown",
   "metadata": {
    "papermill": {
     "duration": 0.035133,
     "end_time": "2020-08-21T20:33:37.403642",
     "exception": false,
     "start_time": "2020-08-21T20:33:37.368509",
     "status": "completed"
    },
    "tags": []
   },
   "source": [
    "# Check Accuracy"
   ]
  },
  {
   "cell_type": "code",
   "execution_count": 45,
   "metadata": {
    "execution": {
     "iopub.execute_input": "2020-08-21T20:33:37.479484Z",
     "iopub.status.busy": "2020-08-21T20:33:37.478609Z",
     "iopub.status.idle": "2020-08-21T20:33:37.483290Z",
     "shell.execute_reply": "2020-08-21T20:33:37.482400Z"
    },
    "papermill": {
     "duration": 0.044961,
     "end_time": "2020-08-21T20:33:37.483438",
     "exception": false,
     "start_time": "2020-08-21T20:33:37.438477",
     "status": "completed"
    },
    "tags": []
   },
   "outputs": [],
   "source": [
    "from sklearn.metrics  import f1_score"
   ]
  },
  {
   "cell_type": "code",
   "execution_count": 46,
   "metadata": {
    "execution": {
     "iopub.execute_input": "2020-08-21T20:33:37.556244Z",
     "iopub.status.busy": "2020-08-21T20:33:37.555418Z",
     "iopub.status.idle": "2020-08-21T20:33:37.569991Z",
     "shell.execute_reply": "2020-08-21T20:33:37.569131Z"
    },
    "papermill": {
     "duration": 0.052015,
     "end_time": "2020-08-21T20:33:37.570177",
     "exception": false,
     "start_time": "2020-08-21T20:33:37.518162",
     "status": "completed"
    },
    "tags": []
   },
   "outputs": [
    {
     "data": {
      "text/plain": [
       "90.43734390069241"
      ]
     },
     "execution_count": 46,
     "metadata": {},
     "output_type": "execute_result"
    }
   ],
   "source": [
    "s1=f1_score(y1_test,vld1,average='weighted')\n",
    "s2=f1_score(y2_test,vld2,average='weighted')\n",
    "accuracy=100*((s1+s2)/2)\n",
    "accuracy"
   ]
  },
  {
   "cell_type": "markdown",
   "metadata": {
    "papermill": {
     "duration": 0.030836,
     "end_time": "2020-08-21T20:33:37.631565",
     "exception": false,
     "start_time": "2020-08-21T20:33:37.600729",
     "status": "completed"
    },
    "tags": []
   },
   "source": [
    "without any hyperparameter tuning,it shows a good score.let's create a submission file"
   ]
  },
  {
   "cell_type": "markdown",
   "metadata": {
    "papermill": {
     "duration": 0.030923,
     "end_time": "2020-08-21T20:33:37.693279",
     "exception": false,
     "start_time": "2020-08-21T20:33:37.662356",
     "status": "completed"
    },
    "tags": []
   },
   "source": [
    "# Create Submission file"
   ]
  },
  {
   "cell_type": "code",
   "execution_count": 47,
   "metadata": {
    "execution": {
     "iopub.execute_input": "2020-08-21T20:33:37.763065Z",
     "iopub.status.busy": "2020-08-21T20:33:37.762243Z",
     "iopub.status.idle": "2020-08-21T20:33:37.860500Z",
     "shell.execute_reply": "2020-08-21T20:33:37.859685Z"
    },
    "papermill": {
     "duration": 0.136623,
     "end_time": "2020-08-21T20:33:37.860657",
     "exception": false,
     "start_time": "2020-08-21T20:33:37.724034",
     "status": "completed"
    },
    "tags": []
   },
   "outputs": [],
   "source": [
    "sub_new=pd.DataFrame({\n",
    "    \"pet_id\":test_id,\n",
    "    \"breed_category\":output2,\n",
    "    \"pet_category\":output1\n",
    "})\n",
    "sub_new.to_csv(\"sub_new.csv\",index=False)"
   ]
  },
  {
   "cell_type": "markdown",
   "metadata": {
    "papermill": {
     "duration": 0.030373,
     "end_time": "2020-08-21T20:33:37.921995",
     "exception": false,
     "start_time": "2020-08-21T20:33:37.891622",
     "status": "completed"
    },
    "tags": []
   },
   "source": [
    "ok.wait,i am going to submit it on hackerearth"
   ]
  },
  {
   "cell_type": "markdown",
   "metadata": {
    "papermill": {
     "duration": 0.029774,
     "end_time": "2020-08-21T20:33:37.982699",
     "exception": false,
     "start_time": "2020-08-21T20:33:37.952925",
     "status": "completed"
    },
    "tags": []
   },
   "source": [
    "# Oh WOW! without any hyperparameter tuning,Hackerearth shows 90.67787"
   ]
  },
  {
   "attachments": {
    "image.png": {
     "image/png": "[encoded data removed]"
    }
   },
   "cell_type": "markdown",
   "metadata": {
    "papermill": {
     "duration": 0.030388,
     "end_time": "2020-08-21T20:33:38.043957",
     "exception": false,
     "start_time": "2020-08-21T20:33:38.013569",
     "status": "completed"
    },
    "tags": []
   },
   "source": [
    "![image.png](attachment:image.png)"
   ]
  },
  {
   "cell_type": "markdown",
   "metadata": {
    "papermill": {
     "duration": 0.030182,
     "end_time": "2020-08-21T20:33:38.104528",
     "exception": false,
     "start_time": "2020-08-21T20:33:38.074346",
     "status": "completed"
    },
    "tags": []
   },
   "source": [
    "# some tips"
   ]
  },
  {
   "cell_type": "markdown",
   "metadata": {
    "papermill": {
     "duration": 0.029983,
     "end_time": "2020-08-21T20:33:38.164851",
     "exception": false,
     "start_time": "2020-08-21T20:33:38.134868",
     "status": "completed"
    },
    "tags": []
   },
   "source": [
    "* Use the predicted output of 'pet_catagory' as a feature of model 2 i.e., predict 'breed_catagory'\n",
    "* BUT if you use 'breed_catagory' as a feature of model 2 i.e., predict 'pet_catagory' it will not give you a good score.\n",
    "* I checked both and found it"
   ]
  },
  {
   "cell_type": "markdown",
   "metadata": {
    "papermill": {
     "duration": 0.030496,
     "end_time": "2020-08-21T20:33:38.226197",
     "exception": false,
     "start_time": "2020-08-21T20:33:38.195701",
     "status": "completed"
    },
    "tags": []
   },
   "source": [
    "let's see,the outputs"
   ]
  },
  {
   "cell_type": "code",
   "execution_count": 48,
   "metadata": {
    "execution": {
     "iopub.execute_input": "2020-08-21T20:33:38.292569Z",
     "iopub.status.busy": "2020-08-21T20:33:38.291735Z",
     "iopub.status.idle": "2020-08-21T20:33:38.300690Z",
     "shell.execute_reply": "2020-08-21T20:33:38.299857Z"
    },
    "papermill": {
     "duration": 0.044327,
     "end_time": "2020-08-21T20:33:38.300834",
     "exception": false,
     "start_time": "2020-08-21T20:33:38.256507",
     "status": "completed"
    },
    "tags": []
   },
   "outputs": [
    {
     "data": {
      "text/plain": [
       "0.0    9000\n",
       "1.0    8357\n",
       "2.0    1477\n",
       "Name: breed_category, dtype: int64"
      ]
     },
     "execution_count": 48,
     "metadata": {},
     "output_type": "execute_result"
    }
   ],
   "source": [
    "y1.value_counts()"
   ]
  },
  {
   "cell_type": "code",
   "execution_count": 49,
   "metadata": {
    "execution": {
     "iopub.execute_input": "2020-08-21T20:33:38.369557Z",
     "iopub.status.busy": "2020-08-21T20:33:38.366522Z",
     "iopub.status.idle": "2020-08-21T20:33:38.374794Z",
     "shell.execute_reply": "2020-08-21T20:33:38.374032Z"
    },
    "papermill": {
     "duration": 0.043615,
     "end_time": "2020-08-21T20:33:38.374935",
     "exception": false,
     "start_time": "2020-08-21T20:33:38.331320",
     "status": "completed"
    },
    "tags": []
   },
   "outputs": [
    {
     "data": {
      "text/plain": [
       "2    10621\n",
       "1     7184\n",
       "4      941\n",
       "0       88\n",
       "Name: pet_category, dtype: int64"
      ]
     },
     "execution_count": 49,
     "metadata": {},
     "output_type": "execute_result"
    }
   ],
   "source": [
    "y2.value_counts()"
   ]
  },
  {
   "cell_type": "markdown",
   "metadata": {
    "papermill": {
     "duration": 0.030511,
     "end_time": "2020-08-21T20:33:38.436309",
     "exception": false,
     "start_time": "2020-08-21T20:33:38.405798",
     "status": "completed"
    },
    "tags": []
   },
   "source": [
    "* You can clearly see it is an imbalanced data.\n",
    "* To handle this imbalanced data, I have used SMOTE, OVERSAMPLING, UNDERSAMPLING, but they don't give me better score also.\n",
    "* So, you must select a good cross-validation where all the labels come as a sample of same amount.\n"
   ]
  },
  {
   "cell_type": "markdown",
   "metadata": {
    "papermill": {
     "duration": 0.03028,
     "end_time": "2020-08-21T20:33:38.497481",
     "exception": false,
     "start_time": "2020-08-21T20:33:38.467201",
     "status": "completed"
    },
    "tags": []
   },
   "source": [
    "Let's check skewness"
   ]
  },
  {
   "cell_type": "code",
   "execution_count": 50,
   "metadata": {
    "execution": {
     "iopub.execute_input": "2020-08-21T20:33:38.565210Z",
     "iopub.status.busy": "2020-08-21T20:33:38.564036Z",
     "iopub.status.idle": "2020-08-21T20:33:38.566971Z",
     "shell.execute_reply": "2020-08-21T20:33:38.567557Z"
    },
    "papermill": {
     "duration": 0.039509,
     "end_time": "2020-08-21T20:33:38.567729",
     "exception": false,
     "start_time": "2020-08-21T20:33:38.528220",
     "status": "completed"
    },
    "tags": []
   },
   "outputs": [],
   "source": [
    "from scipy.stats import skew"
   ]
  },
  {
   "cell_type": "code",
   "execution_count": 51,
   "metadata": {
    "execution": {
     "iopub.execute_input": "2020-08-21T20:33:38.635408Z",
     "iopub.status.busy": "2020-08-21T20:33:38.634485Z",
     "iopub.status.idle": "2020-08-21T20:33:38.642633Z",
     "shell.execute_reply": "2020-08-21T20:33:38.641994Z"
    },
    "papermill": {
     "duration": 0.044739,
     "end_time": "2020-08-21T20:33:38.642768",
     "exception": false,
     "start_time": "2020-08-21T20:33:38.598029",
     "status": "completed"
    },
    "tags": []
   },
   "outputs": [
    {
     "data": {
      "text/plain": [
       "(0.5590984120168632, 1.2303885316219323)"
      ]
     },
     "execution_count": 51,
     "metadata": {},
     "output_type": "execute_result"
    }
   ],
   "source": [
    "y1.skew(axis = 0, skipna = True),y2.skew(axis = 0, skipna = True)"
   ]
  },
  {
   "cell_type": "markdown",
   "metadata": {
    "papermill": {
     "duration": 0.030123,
     "end_time": "2020-08-21T20:33:38.704243",
     "exception": false,
     "start_time": "2020-08-21T20:33:38.674120",
     "status": "completed"
    },
    "tags": []
   },
   "source": [
    "It shows, there is skewness of labels. To handle it, I used LOG Transformation(log1p of numpy). But it didn't give me better score than before"
   ]
  },
  {
   "cell_type": "code",
   "execution_count": null,
   "metadata": {
    "papermill": {
     "duration": 0.029805,
     "end_time": "2020-08-21T20:33:38.764233",
     "exception": false,
     "start_time": "2020-08-21T20:33:38.734428",
     "status": "completed"
    },
    "tags": []
   },
   "outputs": [],
   "source": []
  },
  {
   "cell_type": "markdown",
   "metadata": {
    "papermill": {
     "duration": 0.029838,
     "end_time": "2020-08-21T20:33:38.824497",
     "exception": false,
     "start_time": "2020-08-21T20:33:38.794659",
     "status": "completed"
    },
    "tags": []
   },
   "source": [
    "* I also used PCA, TruncatedSVD for dimension reduction and feature sclection.\n",
    "* It gave me poor score.\n",
    "* you must do feature selection considering the correlation of features."
   ]
  },
  {
   "cell_type": "code",
   "execution_count": null,
   "metadata": {
    "papermill": {
     "duration": 0.030239,
     "end_time": "2020-08-21T20:33:38.885005",
     "exception": false,
     "start_time": "2020-08-21T20:33:38.854766",
     "status": "completed"
    },
    "tags": []
   },
   "outputs": [],
   "source": []
  },
  {
   "cell_type": "markdown",
   "metadata": {
    "papermill": {
     "duration": 0.03018,
     "end_time": "2020-08-21T20:33:38.945474",
     "exception": false,
     "start_time": "2020-08-21T20:33:38.915294",
     "status": "completed"
    },
    "tags": []
   },
   "source": [
    "* To handle missing values, I used KnnImputer. But it doesn't results good score.\n",
    "* First, I filled the missing values with 3 as a unique variable. But I achived a good score by filling it with -1."
   ]
  },
  {
   "cell_type": "code",
   "execution_count": null,
   "metadata": {
    "papermill": {
     "duration": 0.0303,
     "end_time": "2020-08-21T20:33:39.006289",
     "exception": false,
     "start_time": "2020-08-21T20:33:38.975989",
     "status": "completed"
    },
    "tags": []
   },
   "outputs": [],
   "source": []
  },
  {
   "cell_type": "code",
   "execution_count": null,
   "metadata": {
    "papermill": {
     "duration": 0.030139,
     "end_time": "2020-08-21T20:33:39.068021",
     "exception": false,
     "start_time": "2020-08-21T20:33:39.037882",
     "status": "completed"
    },
    "tags": []
   },
   "outputs": [],
   "source": []
  },
  {
   "cell_type": "code",
   "execution_count": null,
   "metadata": {
    "collapsed": true,
    "papermill": {
     "duration": 0.029979,
     "end_time": "2020-08-21T20:33:39.128598",
     "exception": false,
     "start_time": "2020-08-21T20:33:39.098619",
     "status": "completed"
    },
    "tags": []
   },
   "outputs": [],
   "source": []
  },
  {
   "cell_type": "markdown",
   "metadata": {
    "papermill": {
     "duration": 0.0306,
     "end_time": "2020-08-21T20:33:39.189531",
     "exception": false,
     "start_time": "2020-08-21T20:33:39.158931",
     "status": "completed"
    },
    "tags": []
   },
   "source": [
    "* At the beginning of the competition, I ran my model with Logistic Regression, KNN, Support Vector Machine. It resulted a poor score and couldn't cross 80 score.\n",
    "* After using randomforestclassifier,it is around 88-89 score.\n",
    "* But after checking with XgboostClassifier, Adaboost, Lightgbm, CatboostClassifier, etc. tree based models, I have achieved a better score above 90. So,you should try tree-based models I think."
   ]
  },
  {
   "cell_type": "code",
   "execution_count": null,
   "metadata": {
    "papermill": {
     "duration": 0.029925,
     "end_time": "2020-08-21T20:33:39.250672",
     "exception": false,
     "start_time": "2020-08-21T20:33:39.220747",
     "status": "completed"
    },
    "tags": []
   },
   "outputs": [],
   "source": []
  },
  {
   "cell_type": "markdown",
   "metadata": {
    "papermill": {
     "duration": 0.030622,
     "end_time": "2020-08-21T20:33:39.312181",
     "exception": false,
     "start_time": "2020-08-21T20:33:39.281559",
     "status": "completed"
    },
    "tags": []
   },
   "source": [
    "Last of all,you must do hyperparameter tuning to earned an excellent score.."
   ]
  },
  {
   "cell_type": "code",
   "execution_count": null,
   "metadata": {
    "papermill": {
     "duration": 0.031082,
     "end_time": "2020-08-21T20:33:39.373581",
     "exception": false,
     "start_time": "2020-08-21T20:33:39.342499",
     "status": "completed"
    },
    "tags": []
   },
   "outputs": [],
   "source": []
  },
  {
   "cell_type": "markdown",
   "metadata": {
    "papermill": {
     "duration": 0.02994,
     "end_time": "2020-08-21T20:33:39.433914",
     "exception": false,
     "start_time": "2020-08-21T20:33:39.403974",
     "status": "completed"
    },
    "tags": []
   },
   "source": [
    "Finally, a free advise for the beginners(I am also a beginner after all),keep learning new things what found in this notebook and keep practicing. Try to achive better score than me and share your ideas with me..."
   ]
  },
  {
   "cell_type": "markdown",
   "metadata": {
    "papermill": {
     "duration": 0.029769,
     "end_time": "2020-08-21T20:33:39.494005",
     "exception": false,
     "start_time": "2020-08-21T20:33:39.464236",
     "status": "completed"
    },
    "tags": []
   },
   "source": [
    "# This is my first notebook of my life. I am just a beginner.So,if I made any mistake,please inform me. I will be glad. Please Upvote and Share this with others."
   ]
  }
 ],
 "metadata": {
  "kernelspec": {
   "display_name": "Python 3",
   "language": "python",
   "name": "python3"
  },
  "language_info": {
   "codemirror_mode": {
    "name": "ipython",
    "version": 3
   },
   "file_extension": ".py",
   "mimetype": "text/x-python",
   "name": "python",
   "nbconvert_exporter": "python",
   "pygments_lexer": "ipython3",
   "version": "3.7.1"
  },
  "papermill": {
   "duration": 35.545276,
   "end_time": "2020-08-21T20:33:39.635776",
   "environment_variables": {},
   "exception": null,
   "input_path": "__notebook__.ipynb",
   "output_path": "__notebook__.ipynb",
   "parameters": {},
   "start_time": "2020-08-21T20:33:04.090500",
   "version": "2.1.0"
  }
 },
 "nbformat": 4,
 "nbformat_minor": 4
}
